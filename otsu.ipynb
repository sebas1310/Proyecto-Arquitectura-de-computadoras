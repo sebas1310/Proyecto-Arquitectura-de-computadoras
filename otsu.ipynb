{
  "nbformat": 4,
  "nbformat_minor": 0,
  "metadata": {
    "colab": {
      "name": "otsu.ipynb",
      "provenance": [],
      "collapsed_sections": []
    },
    "kernelspec": {
      "name": "python3",
      "display_name": "Python 3"
    },
    "language_info": {
      "name": "python"
    }
  },
  "cells": [
    {
      "cell_type": "markdown",
      "source": [
        "OTSU CLIENT-SERVER\n"
      ],
      "metadata": {
        "id": "SVhPnyIvTPjI"
      }
    },
    {
      "cell_type": "code",
      "source": [
        "import math\n",
        "import cv2\n",
        "import numpy as np\n",
        "from matplotlib import pyplot as plt\n",
        "from PIL import Image\n",
        "import socket\n",
        "import os\n",
        "import time \n",
        "threshold_values = {}\n",
        "h = [1]"
      ],
      "metadata": {
        "id": "7ttptqckTc1N"
      },
      "execution_count": 6,
      "outputs": []
    },
    {
      "cell_type": "markdown",
      "source": [
        "Recibir imagen del cliente"
      ],
      "metadata": {
        "id": "U4U-hXG_UBLk"
      }
    },
    {
      "cell_type": "code",
      "source": [
        "def get_data(): #server para obtener imagen\n",
        "    print('Se esta esperando el envio de la imagen...')\n",
        "    s = socket.socket(socket.AF_INET, socket.SOCK_STREAM)\n",
        "    s.connect((\"192.168.0.15\", 1310)) # here you must past the public external ipaddress of the server machine, not that local address\n",
        "    f = open(\"prueba.jpg\", \"wb\")\n",
        "    data = None\n",
        "    while True:\n",
        "        m = s.recv(1024)\n",
        "        data = m\n",
        "        if m:\n",
        "            while m:\n",
        "                m = s.recv(1024)\n",
        "                data += m\n",
        "            else:\n",
        "                break\n",
        "    f.write(data)\n",
        "    f.close()\n",
        "    print(\"Se recibió la imagen\")"
      ],
      "metadata": {
        "id": "G82fms86UD_8"
      },
      "execution_count": 16,
      "outputs": []
    },
    {
      "cell_type": "markdown",
      "source": [
        "Histograma"
      ],
      "metadata": {
        "id": "kXvfuCtyW4b2"
      }
    },
    {
      "cell_type": "code",
      "source": [
        "def Hist(img): #rd\n",
        "  row = img.shape[0]\n",
        "  col = img.shape[1]\n",
        "\n",
        "  # Arreglo para contar las cantidades de cada valor de la escala de grises\n",
        "  y = np.zeros(256)\n",
        "\n",
        "  for i in range(row):\n",
        "    for j in range(col):\n",
        "      y[img[i,j]] += 1\n",
        "  x = np.arange(0,256)\n",
        "\n",
        "  # Ploteando histograma\n",
        "  plt.title('Distribución de Valores en escala de grises')\n",
        "  plt.xlabel('Valores RGB de la escala de grises')\n",
        "  plt.ylabel('Cantidad de pixeles')\n",
        "  plt.bar(x, y, color='b', width=5, align='center', alpha=0.25)\n",
        "  plt.show()\n",
        "  return y"
      ],
      "metadata": {
        "id": "cTKNiDj0Xdse"
      },
      "execution_count": 8,
      "outputs": []
    },
    {
      "cell_type": "markdown",
      "source": [
        "Regenerar Imagen"
      ],
      "metadata": {
        "id": "0vqHpyUMXkhb"
      }
    },
    {
      "cell_type": "code",
      "source": [
        "def regenerate_img(img, threshold): #rd\n",
        "  row = img.shape[0]\n",
        "  col = img.shape[1]\n",
        "\n",
        "  # Arreglo para generar la nueva imagen\n",
        "  y = np.zeros((row, col, 3), dtype = int)\n",
        "\n",
        "  for i in range(0,row):\n",
        "    for j in range(0,col):\n",
        "      if np.any(img[i,j] >= threshold):\n",
        "        y[i,j] = [255,255,255]\n",
        "      else:\n",
        "        y[i,j] = [0,0,0]\n",
        "  return y"
      ],
      "metadata": {
        "id": "zX4ROVA7Xopp"
      },
      "execution_count": 9,
      "outputs": []
    },
    {
      "cell_type": "markdown",
      "source": [
        "Contar pixel"
      ],
      "metadata": {
        "id": "e3b8gUL_XrQF"
      }
    },
    {
      "cell_type": "code",
      "source": [
        "def countPixel(h):\n",
        "  cnt = 0\n",
        "  for i in range(0, len(h)):\n",
        "    if h[i]>0:\n",
        "      cnt += h[i]\n",
        "  return cnt"
      ],
      "metadata": {
        "id": "U7TIVr60X3hD"
      },
      "execution_count": 10,
      "outputs": []
    },
    {
      "cell_type": "markdown",
      "source": [
        "Funcion Weight Mean y Variance"
      ],
      "metadata": {
        "id": "o2MTn9TSX6kJ"
      }
    },
    {
      "cell_type": "code",
      "source": [
        "def wieght(s, e):\n",
        "  w = 0\n",
        "  for i in range(s, e):\n",
        "    w += h[i]\n",
        "  return w\n",
        "\n",
        "def mean(s, e): #rd\n",
        "  m = 0.0\n",
        "  w = wieght(s, e)\n",
        "  for i in range(s, e):\n",
        "    m += h[i] * i\n",
        "    \n",
        "  return m/float(w)\n",
        "\n",
        "def variance(s, e): #rd\n",
        "  v = 0\n",
        "  m = mean(s, e)\n",
        "  w = wieght(s, e)\n",
        "  for i in range(s, e):\n",
        "    v += ((i - m) **2) * h[i]\n",
        "  v /= w\n",
        "  return v"
      ],
      "metadata": {
        "id": "ikbOENFEYLEI"
      },
      "execution_count": 11,
      "outputs": []
    },
    {
      "cell_type": "markdown",
      "source": [
        "Umbralización"
      ],
      "metadata": {
        "id": "LvfmwSm6YNEG"
      }
    },
    {
      "cell_type": "code",
      "source": [
        "def threshold(h):\n",
        "  cnt = countPixel(h)\n",
        "  for i in range(1, len(h)):\n",
        "    vb = variance(0, i)\n",
        "    wb = wieght(0, i) / float(cnt)\n",
        "    mb = mean(0, i)\n",
        "        \n",
        "    vf = variance(i, len(h))\n",
        "    wf = wieght(i, len(h)) / float(cnt)\n",
        "    mf = mean(i, len(h))\n",
        "        \n",
        "    V2w = wb * (vb) + wf * (vf)\n",
        "    V2b = wb * wf * (mb - mf)**2\n",
        "        \n",
        "    fw = open(\"trace.txt\", \"a\")\n",
        "    fw.write('T='+ str(i) + \"\\n\")\n",
        "\n",
        "    fw.write('Wb='+ str(wb) + \"\\n\")\n",
        "    fw.write('Mb='+ str(mb) + \"\\n\")\n",
        "    fw.write('Vb='+ str(vb) + \"\\n\")\n",
        "        \n",
        "    fw.write('Wf='+ str(wf) + \"\\n\")\n",
        "    fw.write('Mf='+ str(mf) + \"\\n\")\n",
        "    fw.write('Vf='+ str(vf) + \"\\n\")\n",
        "\n",
        "    fw.write('within class variance='+ str(V2w) + \"\\n\")\n",
        "    fw.write('between class variance=' + str(V2b) + \"\\n\")\n",
        "    fw.write(\"\\n\")\n",
        "        \n",
        "    if not math.isnan(V2w):\n",
        "      threshold_values[i] = V2w"
      ],
      "metadata": {
        "id": "H_BS4JLaYTLI"
      },
      "execution_count": 12,
      "outputs": []
    },
    {
      "cell_type": "markdown",
      "source": [
        "Enviar Imagen procesada al cliente"
      ],
      "metadata": {
        "id": "bEkDftJBYanB"
      }
    },
    {
      "cell_type": "code",
      "source": [
        "def send_image_processed(): #server de para enviar imagen\n",
        "    print('Se esta enviado la imagen...')\n",
        "    s = socket.socket(socket.AF_INET, socket.SOCK_STREAM)\n",
        "    s.bind(('192.168.0.6', 5050))\n",
        "    s.listen(10)\n",
        "    conn, addr = s.accept()\n",
        "    print('{} connected.'.format(addr))\n",
        "    f = open(\"prueba_otsu.jpg\", \"rb\")\n",
        "    l = os.path.getsize(\"prueba_otsu.jpg\")\n",
        "    m = f.read(l)\n",
        "    conn.sendall(m)\n",
        "    f.close()\n",
        "    print('Imagen recibida por el cliente')\n"
      ],
      "metadata": {
        "id": "vY9eguhqYgdC"
      },
      "execution_count": 13,
      "outputs": []
    },
    {
      "cell_type": "markdown",
      "source": [
        "Optimal Threshold"
      ],
      "metadata": {
        "id": "Yq7Ug0MAbNDX"
      }
    },
    {
      "cell_type": "code",
      "source": [
        "def get_optimal_threshold():\n",
        "  min_V2w = min(threshold_values.values())\n",
        "  optimal_threshold = [k for k, v in threshold_values.items() if v == min_V2w]\n",
        "  print ('\\nOptimal threshold:', optimal_threshold[0])\n",
        "  return optimal_threshold[0]"
      ],
      "metadata": {
        "id": "9b4MRUsJbRB7"
      },
      "execution_count": 15,
      "outputs": []
    },
    {
      "cell_type": "markdown",
      "source": [
        "Funcion main"
      ],
      "metadata": {
        "id": "tVlUEFOdYy-O"
      }
    },
    {
      "cell_type": "code",
      "source": [
        "def main():\n",
        "  global threshold_values\n",
        "  global h\n",
        "  s_total = time.perf_counter()\n",
        "  threshold_values = {}\n",
        "  h = [1]\n",
        "  '--------------------------------------'\n",
        "  s_get_data = time.perf_counter()\n",
        "  get_data()\n",
        "  time_get_data = time.perf_counter()-s_get_data\n",
        "  '--------------------------------------'\n",
        "\n",
        "  '--------------------------------------'\n",
        "  s_cargar_imag = time.perf_counter()\n",
        "  image = cv2.imread('prueba.jpg')\n",
        "  # Convirtiendo a escala de grises\n",
        "  img = cv2.cvtColor(image, cv2.COLOR_BGR2GRAY)\n",
        "  # Convirtiendo la escala de grises a formato rgb\n",
        "  img = cv2.cvtColor(img, cv2.COLOR_GRAY2RGB)\n",
        "  img = np.asarray(img)\n",
        "  time_cargar_imag = time.perf_counter()-s_cargar_imag\n",
        "  '--------------------------------------'\n",
        "  \n",
        "  '--------------------------------------'\n",
        "  s_hist = time.perf_counter()\n",
        "  h = Hist(img)\n",
        "  time_hist = time.perf_counter()-s_hist\n",
        "  '--------------------------------------'\n",
        "  \n",
        "  '--------------------------------------'\n",
        "  s_threshold = time.perf_counter()\n",
        "  threshold(h)\n",
        "  time_threshold = time.perf_counter()-s_threshold\n",
        "  '--------------------------------------'\n",
        "  \n",
        "  '--------------------------------------'\n",
        "  s_optimal_thres = time.perf_counter()\n",
        "  op_thres = get_optimal_threshold()\n",
        "  time_op_thres = time.perf_counter()-s_optimal_thres\n",
        "  '--------------------------------------'\n",
        "\n",
        "  '--------------------------------------'\n",
        "  s_rest_imag = time.perf_counter()\n",
        "  res = regenerate_img(img, op_thres)\n",
        "  plt.imshow(res)\n",
        "  plt.savefig(\"prueba_otsu.jpg\", dpi = 500)\n",
        "  time_rest_imag = time.perf_counter()-s_rest_imag\n",
        "  '--------------------------------------'\n",
        "  \n",
        "  '--------------------------------------'\n",
        "  s_send_imag = time.perf_counter()\n",
        "  send_image_processed()\n",
        "  time_send_imag = time.perf_counter()-s_send_imag\n",
        "  time_total=time.perf_counter()-s_total\n",
        "  '--------------------------------------'\n",
        "  print('--------------------------------------')\n",
        "  print('Tiempos de ejecucion:')\n",
        "  print(f'El tiempo total de ejecución fue: {time_total}')\n"
        "  print(f'Tiempo de get data: {time_get_data}')\n",
        "  print(f'Tiempo cargar imagen: {time_cargar_imag}')\n",
        "  print(f'Tiempo histograma: {time_hist}')\n",
        "  print(f'Tiempo threshold: {time_threshold}')\n",
        "  print(f'Tiempo optimal threshold: {time_op_thres}')\n",
        "  print(f'Restaurar imagen: {time_rest_imag}')\n",
        "  print(f'Tiempo send data: {time_send_imag}')\n",
        "main()"
      ],
      "metadata": {
        "id": "EmhOQi6LY1-U"
      },
      "execution_count": null,
      "outputs": []
    }
  ]
}
