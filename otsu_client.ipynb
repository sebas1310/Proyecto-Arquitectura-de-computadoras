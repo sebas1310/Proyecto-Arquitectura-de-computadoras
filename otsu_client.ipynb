{
  "nbformat": 4,
  "nbformat_minor": 0,
  "metadata": {
    "colab": {
      "name": "Untitled9.ipynb",
      "provenance": [],
      "collapsed_sections": []
    },
    "kernelspec": {
      "name": "python3",
      "display_name": "Python 3"
    },
    "language_info": {
      "name": "python"
    }
  },
  "cells": [
    {
      "cell_type": "markdown",
      "source": [
        "Otsu Client"
      ],
      "metadata": {
        "id": "l5WE_Bd0gb8h"
      }
    },
    {
      "cell_type": "code",
      "execution_count": null,
      "metadata": {
        "id": "NYEbDTl4f6DH"
      },
      "outputs": [],
      "source": [
        "import socket\n",
        "import os\n",
        "import time"
      ]
    },
    {
      "cell_type": "markdown",
      "source": [
        "Enviar imagen al servidor"
      ],
      "metadata": {
        "id": "4M5gvYxygpqM"
      }
    },
    {
      "cell_type": "code",
      "source": [
        "def send_data(option):\n",
        "    print('Se esta enviado la imagen al servidor')\n",
        "    s = socket.socket(socket.AF_INET, socket.SOCK_STREAM)\n",
        "    s.bind(('', 1310)) #if the clients/server are on different network you shall bind to ('', port)\n",
        "\n",
        "    s.listen(10)\n",
        "    conn, addr = s.accept()\n",
        "\n",
        "    print('{} connected.'.format(addr))\n",
        "    if option =='1':\n",
        "        print('Se elegió la opcion 1')\n",
        "        f = open(\"estructura.jpg\", \"rb\")\n",
        "        l = os.path.getsize(\"estructura.jpg\")\n",
        "        m = f.read(l)\n",
        "        conn.sendall(m)\n",
        "        f.close()\n",
        "    elif option=='2':\n",
        "        print('Se elegió la opcion 2')\n",
        "        f = open(\"perro.jpg\", \"rb\")\n",
        "        l = os.path.getsize(\"perro.jpg\")\n",
        "        m = f.read(l)\n",
        "        conn.sendall(m)\n",
        "        f.close()\n",
        "    else:\n",
        "        print('Se elegió la opcion 3')\n",
        "        f = open(\"paisaje.jpg\", \"rb\")\n",
        "        l = os.path.getsize(\"paisaje.jpg\")\n",
        "        m = f.read(l)\n",
        "        conn.sendall(m)\n",
        "        f.close()\n",
        "    print(\"Se envio la imagen\")"
      ],
      "metadata": {
        "id": "SzUzuEr_gtn5"
      },
      "execution_count": null,
      "outputs": []
    },
    {
      "cell_type": "markdown",
      "source": [
        "Recepción de imagen procesada por el servidor"
      ],
      "metadata": {
        "id": "psVcf-F4gxNq"
      }
    },
    {
      "cell_type": "code",
      "source": [
        "def get_image_processed(option):\n",
        "    s = socket.socket(socket.AF_INET, socket.SOCK_STREAM)\n",
        "    s.connect((\"192.168.0.6\", 5050)) # here you must past the public external ipaddress of the server machine, not that local address\n",
        "    if option == '1':\n",
        "        f = open(\"img_out_1.jpg\", \"wb\")\n",
        "        data = None\n",
        "    elif option=='2':\n",
        "        f = open(\"img_out_2.jpg\", \"wb\")\n",
        "        data = None\n",
        "    else:\n",
        "        f = open(\"img_out_3.jpg\", \"wb\")\n",
        "        data = None\n",
        "    while True:\n",
        "        m = s.recv(1024)\n",
        "        data = m\n",
        "        if m:\n",
        "            while m:\n",
        "                m = s.recv(1024)\n",
        "                data += m\n",
        "            else:\n",
        "                break\n",
        "    f.write(data)\n",
        "    f.close()\n",
        "    print(\"Se optuvo la imagen procesada\")"
      ],
      "metadata": {
        "id": "3J6BtJlVg1pI"
      },
      "execution_count": 1,
      "outputs": []
    },
    {
      "cell_type": "markdown",
      "source": [
        "Funcion Main"
      ],
      "metadata": {
        "id": "hGn8RvfSg4Fe"
      }
    },
    {
      "cell_type": "code",
      "source": [
        "def main():\n",
        "    t = time.perf_counter()\n",
        "    print('1 -> estructura')\n",
        "    print('2 -> perro')\n",
        "    print('3 -> paisaje')\n",
        "    flag = 1\n",
        "    while flag:\n",
        "        option = input('Ingrese la imagen que desea procesar: ')\n",
        "        if option=='1' or option=='2' or option=='3':\n",
        "            send_data(option)\n",
        "            flag =0\n",
        "        else:\n",
        "            print('Ingrese una opción valida')\n",
        "            continue\n",
        "    \n",
        "    print('Obteniendo imagen de nuestros servidores...')\n",
        "    time.sleep(30)\n",
        "    get_image_processed(option)\n",
        "    total = time.perf_counter()-t\n",
        "    print(f'El tiempo de ejecución fue de: {total}')\n",
        "main()"
      ],
      "metadata": {
        "id": "CEHZjXb_g54r"
      },
      "execution_count": null,
      "outputs": []
    }
  ]
}
